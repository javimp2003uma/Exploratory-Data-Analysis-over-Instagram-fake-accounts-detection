{
  "cells": [
    {
      "cell_type": "markdown",
      "metadata": {},
      "source": [
        "# Análisis exploratorio de datos\n",
        "\n",
        "Nos encontramos ante la primera sección de nuestro book... breve introduccion.\n"
      ],
      "id": "4a8e6909"
    },
    {
      "cell_type": "code",
      "metadata": {},
      "source": [
        "import pandas as pd\n",
        "instagram_df_train=pd.read_csv('/kaggle/input/instagram-fake-spammer-genuine-accounts/train.csv')"
      ],
      "id": "e3462605",
      "execution_count": null,
      "outputs": []
    }
  ],
  "metadata": {
    "kernelspec": {
      "name": "python3",
      "language": "python",
      "display_name": "Python 3 (ipykernel)"
    }
  },
  "nbformat": 4,
  "nbformat_minor": 5
}